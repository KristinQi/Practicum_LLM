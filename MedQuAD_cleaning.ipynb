{
 "cells": [
  {
   "cell_type": "markdown",
   "id": "11ae8a1e",
   "metadata": {},
   "source": [
    "# Import dataset "
   ]
  },
  {
   "cell_type": "code",
   "execution_count": 1,
   "id": "d1a94bdc",
   "metadata": {},
   "outputs": [
    {
     "name": "stdout",
     "output_type": "stream",
     "text": [
      "                AnswerID                                             Answer  \\\n",
      "0  ADAM_0003147_Sec1.txt  Question: What is (are) Polycystic ovary syndr...   \n",
      "1  ADAM_0003147_Sec2.txt  Question: What causes Polycystic ovary syndrom...   \n",
      "2  ADAM_0002818_Sec2.txt  Question: What causes Noonan syndrome ?\\nURL: ...   \n",
      "3  ADAM_0002818_Sec7.txt  Question: What are the complications of Noonan...   \n",
      "4  ADAM_0002818_Sec9.txt  Question: How to prevent Noonan syndrome ?\\nUR...   \n",
      "\n",
      "     Unnamed: 2             Unnamed: 3  \n",
      "0  1-Incorrect   ADAM_0003147_Sec1.txt  \n",
      "1  1-Incorrect   ADAM_0003147_Sec2.txt  \n",
      "2  2-Related AD    AM_0002818_Sec2.txt  \n",
      "3  2-Related AD    AM_0002818_Sec7.txt  \n",
      "4  2-Related AD    AM_0002818_Sec9.txt  \n"
     ]
    }
   ],
   "source": [
    "import pandas as pd\n",
    "\n",
    "df = pd.read_csv(\"2479-MedQuAD.csv\")\n",
    "print(df.head())\n"
   ]
  }
 ],
 "metadata": {
  "kernelspec": {
   "display_name": "Python 3 (ipykernel)",
   "language": "python",
   "name": "python3"
  },
  "language_info": {
   "codemirror_mode": {
    "name": "ipython",
    "version": 3
   },
   "file_extension": ".py",
   "mimetype": "text/x-python",
   "name": "python",
   "nbconvert_exporter": "python",
   "pygments_lexer": "ipython3",
   "version": "3.12.1"
  }
 },
 "nbformat": 4,
 "nbformat_minor": 5
}
