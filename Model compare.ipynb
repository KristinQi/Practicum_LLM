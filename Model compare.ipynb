{
 "cells": [
  {
   "cell_type": "markdown",
   "metadata": {
    "id": "J0SgpLz3ePBx"
   },
   "source": [
    "## Data process and cleaning"
   ]
  },
  {
   "cell_type": "code",
   "execution_count": 2,
   "metadata": {},
   "outputs": [
    {
     "name": "stdout",
     "output_type": "stream",
     "text": [
      "Requirement already satisfied: pandas in /venv/main/lib/python3.10/site-packages (2.2.3)\n",
      "Requirement already satisfied: tzdata>=2022.7 in /venv/main/lib/python3.10/site-packages (from pandas) (2025.2)\n",
      "Requirement already satisfied: numpy>=1.22.4 in /venv/main/lib/python3.10/site-packages (from pandas) (2.2.4)\n",
      "Requirement already satisfied: pytz>=2020.1 in /venv/main/lib/python3.10/site-packages (from pandas) (2025.2)\n",
      "Requirement already satisfied: python-dateutil>=2.8.2 in /venv/main/lib/python3.10/site-packages (from pandas) (2.9.0.post0)\n",
      "Requirement already satisfied: six>=1.5 in /venv/main/lib/python3.10/site-packages (from python-dateutil>=2.8.2->pandas) (1.17.0)\n",
      "Requirement already satisfied: matplotlib in /venv/main/lib/python3.10/site-packages (3.10.1)\n",
      "Requirement already satisfied: packaging>=20.0 in /venv/main/lib/python3.10/site-packages (from matplotlib) (24.2)\n",
      "Requirement already satisfied: pillow>=8 in /venv/main/lib/python3.10/site-packages (from matplotlib) (11.1.0)\n",
      "Requirement already satisfied: kiwisolver>=1.3.1 in /venv/main/lib/python3.10/site-packages (from matplotlib) (1.4.8)\n",
      "Requirement already satisfied: contourpy>=1.0.1 in /venv/main/lib/python3.10/site-packages (from matplotlib) (1.3.1)\n",
      "Requirement already satisfied: python-dateutil>=2.7 in /venv/main/lib/python3.10/site-packages (from matplotlib) (2.9.0.post0)\n",
      "Requirement already satisfied: pyparsing>=2.3.1 in /venv/main/lib/python3.10/site-packages (from matplotlib) (3.2.3)\n",
      "Requirement already satisfied: numpy>=1.23 in /venv/main/lib/python3.10/site-packages (from matplotlib) (2.2.4)\n",
      "Requirement already satisfied: cycler>=0.10 in /venv/main/lib/python3.10/site-packages (from matplotlib) (0.12.1)\n",
      "Requirement already satisfied: fonttools>=4.22.0 in /venv/main/lib/python3.10/site-packages (from matplotlib) (4.57.0)\n",
      "Requirement already satisfied: six>=1.5 in /venv/main/lib/python3.10/site-packages (from python-dateutil>=2.7->matplotlib) (1.17.0)\n",
      "Requirement already satisfied: seaborn in /venv/main/lib/python3.10/site-packages (0.13.2)\n",
      "Requirement already satisfied: pandas>=1.2 in /venv/main/lib/python3.10/site-packages (from seaborn) (2.2.3)\n",
      "Requirement already satisfied: matplotlib!=3.6.1,>=3.4 in /venv/main/lib/python3.10/site-packages (from seaborn) (3.10.1)\n",
      "Requirement already satisfied: numpy!=1.24.0,>=1.20 in /venv/main/lib/python3.10/site-packages (from seaborn) (2.2.4)\n",
      "Requirement already satisfied: contourpy>=1.0.1 in /venv/main/lib/python3.10/site-packages (from matplotlib!=3.6.1,>=3.4->seaborn) (1.3.1)\n",
      "Requirement already satisfied: pillow>=8 in /venv/main/lib/python3.10/site-packages (from matplotlib!=3.6.1,>=3.4->seaborn) (11.1.0)\n",
      "Requirement already satisfied: cycler>=0.10 in /venv/main/lib/python3.10/site-packages (from matplotlib!=3.6.1,>=3.4->seaborn) (0.12.1)\n",
      "Requirement already satisfied: fonttools>=4.22.0 in /venv/main/lib/python3.10/site-packages (from matplotlib!=3.6.1,>=3.4->seaborn) (4.57.0)\n",
      "Requirement already satisfied: kiwisolver>=1.3.1 in /venv/main/lib/python3.10/site-packages (from matplotlib!=3.6.1,>=3.4->seaborn) (1.4.8)\n",
      "Requirement already satisfied: packaging>=20.0 in /venv/main/lib/python3.10/site-packages (from matplotlib!=3.6.1,>=3.4->seaborn) (24.2)\n",
      "Requirement already satisfied: python-dateutil>=2.7 in /venv/main/lib/python3.10/site-packages (from matplotlib!=3.6.1,>=3.4->seaborn) (2.9.0.post0)\n",
      "Requirement already satisfied: pyparsing>=2.3.1 in /venv/main/lib/python3.10/site-packages (from matplotlib!=3.6.1,>=3.4->seaborn) (3.2.3)\n",
      "Requirement already satisfied: tzdata>=2022.7 in /venv/main/lib/python3.10/site-packages (from pandas>=1.2->seaborn) (2025.2)\n",
      "Requirement already satisfied: pytz>=2020.1 in /venv/main/lib/python3.10/site-packages (from pandas>=1.2->seaborn) (2025.2)\n",
      "Requirement already satisfied: six>=1.5 in /venv/main/lib/python3.10/site-packages (from python-dateutil>=2.7->matplotlib!=3.6.1,>=3.4->seaborn) (1.17.0)\n",
      "Requirement already satisfied: scikit-learn in /venv/main/lib/python3.10/site-packages (1.6.1)\n",
      "Requirement already satisfied: joblib>=1.2.0 in /venv/main/lib/python3.10/site-packages (from scikit-learn) (1.4.2)\n",
      "Requirement already satisfied: numpy>=1.19.5 in /venv/main/lib/python3.10/site-packages (from scikit-learn) (2.2.4)\n",
      "Requirement already satisfied: scipy>=1.6.0 in /venv/main/lib/python3.10/site-packages (from scikit-learn) (1.15.2)\n",
      "Requirement already satisfied: threadpoolctl>=3.1.0 in /venv/main/lib/python3.10/site-packages (from scikit-learn) (3.6.0)\n",
      "Requirement already satisfied: textstat in /venv/main/lib/python3.10/site-packages (0.7.5)\n",
      "Requirement already satisfied: pyphen in /venv/main/lib/python3.10/site-packages (from textstat) (0.17.2)\n",
      "Requirement already satisfied: setuptools in /venv/main/lib/python3.10/site-packages (from textstat) (59.6.0)\n",
      "Requirement already satisfied: cmudict in /venv/main/lib/python3.10/site-packages (from textstat) (1.0.32)\n",
      "Requirement already satisfied: importlib-resources>=5 in /venv/main/lib/python3.10/site-packages (from cmudict->textstat) (6.5.2)\n",
      "Requirement already satisfied: importlib-metadata>=5 in /venv/main/lib/python3.10/site-packages (from cmudict->textstat) (8.6.1)\n",
      "Requirement already satisfied: zipp>=3.20 in /venv/main/lib/python3.10/site-packages (from importlib-metadata>=5->cmudict->textstat) (3.21.0)\n"
     ]
    }
   ],
   "source": [
    "!pip install pandas\n",
    "!pip install matplotlib\n",
    "!pip install seaborn\n",
    "!pip install -U scikit-learn\n",
    "!pip install textstat\n",
    "### login to the Hugging Face\n",
    "!pip install transformers datasets accelerate\n",
    "!pip install huggingface_hub transformers datasets accelerate peft bitsandbytes torch openpyxl bert_score\n",
    "!pip install --upgrade transformers\n",
    "!pip install bert_score --quiet\n",
    "!pip install datasets\n",
    "## Matrics\n",
    "!pip install evaluate\n",
    "!pip install evaluate rouge_score nltk absl-py\n",
    "!pip install nltk\n",
    "!pip install sacrebleu\n"
   ]
  },
  {
   "cell_type": "code",
   "execution_count": 3,
   "metadata": {},
   "outputs": [
    {
     "name": "stdout",
     "output_type": "stream",
     "text": [
      "/venv/main/bin/python\n"
     ]
    }
   ],
   "source": [
    "import sys\n",
    "print(sys.executable)\n"
   ]
  },
  {
   "cell_type": "code",
   "execution_count": 4,
   "metadata": {
    "colab": {
     "base_uri": "https://localhost:8080/"
    },
    "id": "LgaKjq2BaFEP",
    "outputId": "a4ed45c3-82f7-4314-bb37-e592240ab74c"
   },
   "outputs": [
    {
     "name": "stdout",
     "output_type": "stream",
     "text": [
      "                AnswerID                                             Answer  \\\n",
      "0  ADAM_0003147_Sec1.txt  Question: What is (are) Polycystic ovary syndr...   \n",
      "1  ADAM_0003147_Sec2.txt  Question: What causes Polycystic ovary syndrom...   \n",
      "2  ADAM_0002818_Sec2.txt  Question: What causes Noonan syndrome ?\\nURL: ...   \n",
      "3  ADAM_0002818_Sec7.txt  Question: What are the complications of Noonan...   \n",
      "4  ADAM_0002818_Sec9.txt  Question: How to prevent Noonan syndrome ?\\nUR...   \n",
      "\n",
      "     Unnamed: 2             Unnamed: 3  \n",
      "0  1-Incorrect   ADAM_0003147_Sec1.txt  \n",
      "1  1-Incorrect   ADAM_0003147_Sec2.txt  \n",
      "2  2-Related AD    AM_0002818_Sec2.txt  \n",
      "3  2-Related AD    AM_0002818_Sec7.txt  \n",
      "4  2-Related AD    AM_0002818_Sec9.txt  \n"
     ]
    }
   ],
   "source": [
    "# Upload the file - method 2: upload the dataset in your drive and read the dataset through google drive\n",
    "# If you have not installed the package:\n",
    "# pip install pandas\n",
    "import pandas as pd\n",
    "\n",
    "df = pd.read_csv(\"2479-MedQuAD.csv\")\n",
    "print(df.head())\n"
   ]
  },
  {
   "cell_type": "code",
   "execution_count": 5,
   "metadata": {
    "colab": {
     "base_uri": "https://localhost:8080/"
    },
    "id": "xCQ9VQHTe7uT",
    "outputId": "273d187a-c86d-4e43-8399-b9882f3eefb0"
   },
   "outputs": [
    {
     "name": "stdout",
     "output_type": "stream",
     "text": [
      "Rows with 'Excellent' or 'Incomplete': 150\n"
     ]
    }
   ],
   "source": [
    "import pandas as pd\n",
    "import re\n",
    "# Load your dataset\n",
    "df = df[df['Unnamed: 2'].astype(str).str.contains('Excellent|Incomplete', na=False)]\n",
    "# Print how many data\n",
    "print(f\"Rows with 'Excellent' or 'Incomplete': {len(df)}\")\n"
   ]
  },
  {
   "cell_type": "code",
   "execution_count": 6,
   "metadata": {
    "colab": {
     "base_uri": "https://localhost:8080/"
    },
    "id": "HFDoWEdcfwZn",
    "outputId": "ebfefdab-f4b4-4d82-88ab-75a60e430688"
   },
   "outputs": [
    {
     "name": "stdout",
     "output_type": "stream",
     "text": [
      "                                             question  \\\n",
      "10                    What is (are) Noonan syndrome ?   \n",
      "11                      What causes Noonan syndrome ?   \n",
      "12  What is (are) Noonan syndrome ? (Also called: ...   \n",
      "13  What are the symptoms of Noonan syndrome ? (Al...   \n",
      "14  Is Noonan syndrome inherited ? (Also called: M...   \n",
      "\n",
      "                                               answer  \n",
      "10  Noonan syndrome is a disease that can be passe...  \n",
      "11  Noonan syndrome is linked to defects in severa...  \n",
      "12  Noonan syndrome is a genetic disorder that cau...  \n",
      "13  What are the signs and symptoms of Noonan synd...  \n",
      "14  How is Noonan syndrome inherited? Noonan syndr...  \n"
     ]
    }
   ],
   "source": [
    "# Step 2: Extract Question and Answer from the 'Answer' column\n",
    "def extract_question_answer(text):\n",
    "    # Remove URL\n",
    "    text = re.sub(r'URL:\\s*\\S+', '', str(text))\n",
    "\n",
    "    # Extract Question and Answer using regex\n",
    "    question_match = re.search(r'Question:\\s*(.*?)\\s*Answer:', text)\n",
    "    answer_match = re.search(r'Answer:\\s*(.*)', text)\n",
    "    question = question_match.group(1).strip() if question_match else None\n",
    "    answer = answer_match.group(1).strip() if answer_match else None\n",
    "\n",
    "    return pd.Series([question, answer])\n",
    "\n",
    "# Apply function to the 'Answer' column (not 'combined')\n",
    "df[['question', 'answer']] = df['Answer'].apply(extract_question_answer)\n",
    "\n",
    "# Save final result\n",
    "df.to_csv('filtered_questions_answers.csv', index=False)\n",
    "\n",
    "# Preview\n",
    "print(df[['question', 'answer']].head())\n"
   ]
  },
  {
   "cell_type": "code",
   "execution_count": 7,
   "metadata": {
    "colab": {
     "base_uri": "https://localhost:8080/"
    },
    "id": "GO36kIPWfcbI",
    "outputId": "a15958c7-cec3-4047-d606-2f20f16db939"
   },
   "outputs": [
    {
     "name": "stdout",
     "output_type": "stream",
     "text": [
      "                                             question  \\\n",
      "10                    What is (are) Noonan syndrome ?   \n",
      "11                      What causes Noonan syndrome ?   \n",
      "12  What is (are) Noonan syndrome ? (Also called: ...   \n",
      "13  What are the symptoms of Noonan syndrome ? (Al...   \n",
      "14  Is Noonan syndrome inherited ? (Also called: M...   \n",
      "\n",
      "                                               answer  \n",
      "10  Noonan syndrome is a disease that can be passe...  \n",
      "11  Noonan syndrome is linked to defects in severa...  \n",
      "12  Noonan syndrome is a genetic disorder that cau...  \n",
      "13  What are the signs and symptoms of Noonan synd...  \n",
      "14  How is Noonan syndrome inherited? Noonan syndr...  \n",
      "Remaining number of Q&A pairs: 150\n"
     ]
    }
   ],
   "source": [
    "# Step 4: Save the clean data to CSV\n",
    "df.to_csv('MedQuDA_2000.csv', index=False)\n",
    "print(df[['question', 'answer']].head())\n",
    "# Print how many clean rows are left\n",
    "print(f\"Remaining number of Q&A pairs: {len(df)}\")\n"
   ]
  },
  {
   "cell_type": "code",
   "execution_count": 8,
   "metadata": {
    "colab": {
     "base_uri": "https://localhost:8080/",
     "height": 34
    },
    "id": "fBBL3IYcZtjA",
    "outputId": "43d0e65e-9857-48fe-ccd6-fa2a03ea3311"
   },
   "outputs": [
    {
     "data": {
      "text/html": [
       "<a href='MedQuDA_2000.csv' target='_blank'>MedQuDA_2000.csv</a><br>"
      ],
      "text/plain": [
       "/5052/MedQuDA_2000.csv"
      ]
     },
     "execution_count": 8,
     "metadata": {},
     "output_type": "execute_result"
    }
   ],
   "source": [
    "from IPython.display import FileLink\n",
    "# Provide the path to your file\n",
    "file_path = 'MedQuDA_2000.csv'\n",
    "# Create a downloadable link\n",
    "FileLink(file_path)"
   ]
  },
  {
   "cell_type": "markdown",
   "metadata": {
    "id": "qrfAqnsypYx9"
   },
   "source": [
    "## Explanation of data cleaning and processing\n",
    "\n"
   ]
  },
  {
   "cell_type": "markdown",
   "metadata": {
    "id": "tHzUi87uqv5S"
   },
   "source": [
    "To prepare the dataset for training and evaluation, I performed a series of data cleaning and filtering steps to ensure high-quality question–answer (QA) pairs. Starting with an initial dataset of 2,479 entries, I narrowed it down to a focused subset of 150 QA pairs. This reduction was achieved by filtering based on an evaluation column that assessed the quality of each QA pair. Specifically, I retained only those entries that were labeled as “Excellent” and \"Incomplete\" in the evaluation field. These “Excellent” ratings indicate that both the question and answer were factually accurate, relevant, and clearly formulated—making them ideal candidates for training or benchmarking a language model.\n",
    "\n",
    "This filtering step was essential to maintain data integrity and reliability, particularly for fine-tuning or testing the model's ability to generate medically accurate and user-friendly responses. By prioritizing quality over quantity, I ensured that the resulting dataset would support meaningful and trustworthy model outputs."
   ]
  },
  {
   "cell_type": "markdown",
   "metadata": {
    "id": "O-k_f6cJiNNh",
    "jp-MarkdownHeadingCollapsed": true
   },
   "source": [
    "# Visualization the dataset and interpretation"
   ]
  },
  {
   "cell_type": "code",
   "execution_count": 9,
   "metadata": {
    "colab": {
     "base_uri": "https://localhost:8080/",
     "height": 310
    },
    "id": "W3M7ujZ6iPnI",
    "outputId": "3018ea88-ebb8-4a17-e5e0-2dcc9aac83fe"
   },
   "outputs": [
    {
     "data": {
      "text/html": [
       "<div>\n",
       "<style scoped>\n",
       "    .dataframe tbody tr th:only-of-type {\n",
       "        vertical-align: middle;\n",
       "    }\n",
       "\n",
       "    .dataframe tbody tr th {\n",
       "        vertical-align: top;\n",
       "    }\n",
       "\n",
       "    .dataframe thead th {\n",
       "        text-align: right;\n",
       "    }\n",
       "</style>\n",
       "<table border=\"1\" class=\"dataframe\">\n",
       "  <thead>\n",
       "    <tr style=\"text-align: right;\">\n",
       "      <th></th>\n",
       "      <th>AnswerID</th>\n",
       "      <th>Answer</th>\n",
       "      <th>Unnamed: 2</th>\n",
       "      <th>Unnamed: 3</th>\n",
       "      <th>question</th>\n",
       "      <th>answer</th>\n",
       "    </tr>\n",
       "  </thead>\n",
       "  <tbody>\n",
       "    <tr>\n",
       "      <th>0</th>\n",
       "      <td>ADAM_0002818_Sec1.txt</td>\n",
       "      <td>Question: What is (are) Noonan syndrome ?\\nURL...</td>\n",
       "      <td>3-Incomplete</td>\n",
       "      <td>ADAM_0002818_Sec1.txt</td>\n",
       "      <td>What is (are) Noonan syndrome ?</td>\n",
       "      <td>Noonan syndrome is a disease that can be passe...</td>\n",
       "    </tr>\n",
       "    <tr>\n",
       "      <th>1</th>\n",
       "      <td>ADAM_0002818_Sec2.txt</td>\n",
       "      <td>Question: What causes Noonan syndrome ?\\nURL: ...</td>\n",
       "      <td>3-Incomplete</td>\n",
       "      <td>ADAM_0002818_Sec2.txt</td>\n",
       "      <td>What causes Noonan syndrome ?</td>\n",
       "      <td>Noonan syndrome is linked to defects in severa...</td>\n",
       "    </tr>\n",
       "    <tr>\n",
       "      <th>2</th>\n",
       "      <td>GARD_0004450_Sec1.txt</td>\n",
       "      <td>Question: What is (are) Noonan syndrome ? (Als...</td>\n",
       "      <td>3-Incomplete</td>\n",
       "      <td>GARD_0004450_Sec1.txt</td>\n",
       "      <td>What is (are) Noonan syndrome ? (Also called: ...</td>\n",
       "      <td>Noonan syndrome is a genetic disorder that cau...</td>\n",
       "    </tr>\n",
       "    <tr>\n",
       "      <th>3</th>\n",
       "      <td>GARD_0004450_Sec2.txt</td>\n",
       "      <td>Question: What are the symptoms of Noonan synd...</td>\n",
       "      <td>3-Incomplete</td>\n",
       "      <td>GARD_0004450_Sec2.txt</td>\n",
       "      <td>What are the symptoms of Noonan syndrome ? (Al...</td>\n",
       "      <td>What are the signs and symptoms of Noonan synd...</td>\n",
       "    </tr>\n",
       "    <tr>\n",
       "      <th>4</th>\n",
       "      <td>GARD_0004450_Sec3.txt</td>\n",
       "      <td>Question: Is Noonan syndrome inherited ? (Also...</td>\n",
       "      <td>3-Incomplete</td>\n",
       "      <td>GARD_0004450_Sec3.txt</td>\n",
       "      <td>Is Noonan syndrome inherited ? (Also called: M...</td>\n",
       "      <td>How is Noonan syndrome inherited? Noonan syndr...</td>\n",
       "    </tr>\n",
       "  </tbody>\n",
       "</table>\n",
       "</div>"
      ],
      "text/plain": [
       "                AnswerID                                             Answer  \\\n",
       "0  ADAM_0002818_Sec1.txt  Question: What is (are) Noonan syndrome ?\\nURL...   \n",
       "1  ADAM_0002818_Sec2.txt  Question: What causes Noonan syndrome ?\\nURL: ...   \n",
       "2  GARD_0004450_Sec1.txt  Question: What is (are) Noonan syndrome ? (Als...   \n",
       "3  GARD_0004450_Sec2.txt  Question: What are the symptoms of Noonan synd...   \n",
       "4  GARD_0004450_Sec3.txt  Question: Is Noonan syndrome inherited ? (Also...   \n",
       "\n",
       "     Unnamed: 2              Unnamed: 3  \\\n",
       "0  3-Incomplete   ADAM_0002818_Sec1.txt   \n",
       "1  3-Incomplete   ADAM_0002818_Sec2.txt   \n",
       "2  3-Incomplete   GARD_0004450_Sec1.txt   \n",
       "3  3-Incomplete   GARD_0004450_Sec2.txt   \n",
       "4  3-Incomplete   GARD_0004450_Sec3.txt   \n",
       "\n",
       "                                            question  \\\n",
       "0                    What is (are) Noonan syndrome ?   \n",
       "1                      What causes Noonan syndrome ?   \n",
       "2  What is (are) Noonan syndrome ? (Also called: ...   \n",
       "3  What are the symptoms of Noonan syndrome ? (Al...   \n",
       "4  Is Noonan syndrome inherited ? (Also called: M...   \n",
       "\n",
       "                                              answer  \n",
       "0  Noonan syndrome is a disease that can be passe...  \n",
       "1  Noonan syndrome is linked to defects in severa...  \n",
       "2  Noonan syndrome is a genetic disorder that cau...  \n",
       "3  What are the signs and symptoms of Noonan synd...  \n",
       "4  How is Noonan syndrome inherited? Noonan syndr...  "
      ]
     },
     "execution_count": 9,
     "metadata": {},
     "output_type": "execute_result"
    }
   ],
   "source": [
    "import pandas as pd\n",
    "\n",
    "df = pd.read_csv(\"MedQuDA_2000.csv\")\n",
    "df = df.dropna(subset=[\"question\", \"answer\"])  # Ensure no NaNs\n",
    "df.head()\n"
   ]
  },
  {
   "cell_type": "code",
   "execution_count": 10,
   "metadata": {
    "colab": {
     "base_uri": "https://localhost:8080/",
     "height": 487
    },
    "id": "raaIqzMItf8M",
    "outputId": "1bd65c3a-d656-4899-93e0-f07c9d9613cf"
   },
   "outputs": [
    {
     "data": {
      "image/png": "[encoded data removed]",
      "text/plain": [
       "<Figure size 1000x500 with 1 Axes>"
      ]
     },
     "metadata": {},
     "output_type": "display_data"
    }
   ],
   "source": [
    "import matplotlib.pyplot as plt\n",
    "\n",
    "df[\"q_len\"] = df[\"question\"].apply(len)\n",
    "df[\"a_len\"] = df[\"answer\"].apply(len)\n",
    "\n",
    "plt.figure(figsize=(10, 5))\n",
    "plt.hist(df[\"q_len\"], bins=30, alpha=0.7, label=\"Question Length\")\n",
    "plt.hist(df[\"a_len\"], bins=30, alpha=0.7, label=\"Answer Length\")\n",
    "plt.xlabel(\"Length\")\n",
    "plt.ylabel(\"Frequency\")\n",
    "plt.title(\"Distribution of Question and Answer Lengths\")\n",
    "plt.legend()\n",
    "plt.show()"
   ]
  },
  {
   "cell_type": "code",
   "execution_count": 11,
   "metadata": {
    "colab": {
     "base_uri": "https://localhost:8080/",
     "height": 607
    },
    "id": "BbmGfmbTitjR",
    "outputId": "2037e6a9-8c56-443c-f5ec-2bea52626345"
   },
   "outputs": [
    {
     "data": {
      "image/png": "[encoded data removed]",
      "text/plain": [
       "<Figure size 1000x600 with 1 Axes>"
      ]
     },
     "metadata": {},
     "output_type": "display_data"
    }
   ],
   "source": [
    "import matplotlib.pyplot as plt\n",
    "df[\"q_len\"] = df[\"question\"].apply(len)\n",
    "df[\"a_len\"] = df[\"answer\"].apply(len)\n",
    "import matplotlib.pyplot as plt\n",
    "\n",
    "plt.figure(figsize=(10, 6))\n",
    "\n",
    "# Use alpha to distinguish overlapping bars\n",
    "plt.hist(df[\"q_len\"], bins=30, alpha=0.7, label=\"Question Length\", color='cornflowerblue')\n",
    "plt.hist(df[\"a_len\"], bins=30, alpha=0.6, label=\"Answer Length\", color='sandybrown')\n",
    "\n",
    "plt.title(\"Distribution of Question and Answer Lengths\", fontsize=14)\n",
    "plt.xlabel(\"Text Length (characters)\", fontsize=12)\n",
    "plt.ylabel(\"Number of Entries\", fontsize=12)\n",
    "plt.legend()\n",
    "plt.grid(axis=\"y\", alpha=0.3)\n",
    "\n",
    "plt.tight_layout()\n",
    "plt.show()\n"
   ]
  },
  {
   "cell_type": "markdown",
   "metadata": {
    "id": "1Vjfx4w0i6tt"
   },
   "source": [
    "Interpretation\n",
    "\n",
    "The histogram displays the distribution of text lengths for questions and answers in the MedQuAD dataset. Most questions are short — typically under 200 characters — indicating they are concise and likely to-the-point (e.g., “What is asthma?”). Meanwhile, answers show a much broader range of lengths, spanning from under 200 to over 6,000 characters. This reflects the complexity of medical responses, which often involve detailed explanations, lists of symptoms or treatments, and nuanced distinctions between related conditions.\n",
    "\n",
    "The peak in both distributions occurs around the 0–200 character mark, but answer lengths are significantly more spread out with a long right tail. This is a positive insight for model training: it confirms that question length is relatively consistent, whereas answer length varies widely, helping us decide generation limits (e.g., max_new_tokens)."
   ]
  },
  {
   "cell_type": "markdown",
   "metadata": {
    "id": "0_G_dxSckBrC",
    "jp-MarkdownHeadingCollapsed": true
   },
   "source": [
    "## Question vs. Answer Length Scatter Plot"
   ]
  },
  {
   "cell_type": "code",
   "execution_count": 12,
   "metadata": {
    "colab": {
     "base_uri": "https://localhost:8080/",
     "height": 564
    },
    "id": "EENsgHizkCtg",
    "outputId": "f60e733f-b3f0-4bcb-9513-55f686ba19dd"
   },
   "outputs": [
    {
     "data": {
      "image/png": "[encoded data removed]",
      "text/plain": [
       "<Figure size 800x600 with 1 Axes>"
      ]
     },
     "metadata": {},
     "output_type": "display_data"
    }
   ],
   "source": [
    "import seaborn as sns\n",
    "import matplotlib.pyplot as plt\n",
    "\n",
    "plt.figure(figsize=(8, 6))\n",
    "sns.scatterplot(x=df[\"q_len\"], y=df[\"a_len\"], alpha=0.5)\n",
    "plt.title(\"Relationship Between Question and Answer Lengths\")\n",
    "plt.xlabel(\"Question Length\")\n",
    "plt.ylabel(\"Answer Length\")\n",
    "plt.grid(True)\n",
    "plt.show()"
   ]
  },
  {
   "cell_type": "markdown",
   "metadata": {
    "id": "lFXVTwkapQYT"
   },
   "source": [
    "Interpretation\n",
    "\n",
    "The scatter plot highlights a non-linear and low correlation between question and answer lengths. This variability suggests that answer generation is influenced more by content than form, which is an important consideration when fine-tuning language models for medical Q&A tasks. It also implies that token truncation strategies during model training should be designed with this wide range of answer lengths in mind."
   ]
  },
  {
   "cell_type": "markdown",
   "metadata": {
    "id": "DW93mqFjkIaa",
    "jp-MarkdownHeadingCollapsed": true
   },
   "source": [
    "## Top-N Frequent Medical Terms (NER/Keyword Extraction)"
   ]
  },
  {
   "cell_type": "code",
   "execution_count": 13,
   "metadata": {
    "colab": {
     "base_uri": "https://localhost:8080/",
     "height": 448
    },
    "id": "19dGeSwYkNbg",
    "outputId": "cfb2ba60-1a81-4756-d461-1d9fd879792e"
   },
   "outputs": [
    {
     "data": {
      "text/plain": [
       "<Axes: >"
      ]
     },
     "execution_count": 13,
     "metadata": {},
     "output_type": "execute_result"
    },
    {
     "data": {
      "image/png": "[encoded data removed]",
      "text/plain": [
       "<Figure size 640x480 with 1 Axes>"
      ]
     },
     "metadata": {},
     "output_type": "display_data"
    }
   ],
   "source": [
    "\n",
    "from sklearn.feature_extraction.text import CountVectorizer\n",
    "\n",
    "vectorizer = CountVectorizer(max_features=20, stop_words='english')\n",
    "X = vectorizer.fit_transform(df['question'])\n",
    "\n",
    "import pandas as pd\n",
    "pd.Series(X.toarray().sum(axis=0), index=vectorizer.get_feature_names_out()).sort_values(ascending=False).plot(kind='barh')"
   ]
  },
  {
   "cell_type": "markdown",
   "metadata": {
    "id": "-zYwXOOqpu1N"
   },
   "source": [
    "Interpretation\n",
    "\n",
    "The distribution of terms highlights a strong bias toward clinical diagnosis, symptom understanding, and condition naming. It also reveals that both general (e.g., diabetes, syndrome) and rare conditions are present in user queries. This insight could be used to guide model fine-tuning, e.g., prioritizing accurate definitions and symptom mapping in language model outputs."
   ]
  },
  {
   "cell_type": "markdown",
   "metadata": {
    "id": "UZnif-HykYbV",
    "jp-MarkdownHeadingCollapsed": true
   },
   "source": [
    "## Answer Complexity Score (Flesch Reading Ease or Similar)"
   ]
  },
  {
   "cell_type": "code",
   "execution_count": 14,
   "metadata": {
    "colab": {
     "base_uri": "https://localhost:8080/",
     "height": 487
    },
    "id": "6dfMRk10kamL",
    "outputId": "6c22e2fb-84cf-4bfd-e739-90fdbb276a75"
   },
   "outputs": [
    {
     "data": {
      "image/png": "[encoded data removed]",
      "text/plain": [
       "<Figure size 800x500 with 1 Axes>"
      ]
     },
     "metadata": {},
     "output_type": "display_data"
    }
   ],
   "source": [
    "import textstat\n",
    "\n",
    "# Calculate Flesch Reading Ease Score for each answer\n",
    "df[\"readability\"] = df[\"answer\"].apply(textstat.flesch_reading_ease)\n",
    "\n",
    "# Plot the distribution of readability scores\n",
    "import seaborn as sns\n",
    "import matplotlib.pyplot as plt\n",
    "\n",
    "plt.figure(figsize=(8, 5))\n",
    "sns.histplot(df[\"readability\"], bins=20, kde=True)\n",
    "plt.title(\"Distribution of Answer Readability (Flesch Reading Ease)\")\n",
    "plt.xlabel(\"Readability Score\")\n",
    "plt.ylabel(\"Frequency\")\n",
    "plt.grid(True)\n",
    "plt.show()"
   ]
  },
  {
   "cell_type": "markdown",
   "metadata": {
    "id": "F_NSqlLgqKcZ"
   },
   "source": [
    "Interpretation\n",
    "\n",
    "The distribution of Flesch Reading Ease scores for the MedQuAD answers shows that most responses fall within the 40–70 range, suggesting that the majority of content is moderately readable and appropriate for individuals with a middle to early high school reading level. The distribution has a right-skewed shape, with the highest concentration of scores around 60, indicating generally accessible language. However, a notable number of answers have lower readability scores—some even falling below 30 or into negative values—highlighting the presence of more complex or technical medical language that may be challenging for the average reader to understand. This suggests that while the dataset is mostly patient-friendly, there is room to improve accessibility, particularly for those with lower health literacy. For applications like training a language model such as LLaMA, this insight points to potential value in simplifying or filtering overly complex entries to ensure consistent, comprehensible outputs for end-users."
   ]
  },
  {
   "cell_type": "markdown",
   "metadata": {
    "id": "E9TFJPiqbn5z"
   },
   "source": [
    "## Download the Model"
   ]
  },
  {
   "cell_type": "markdown",
   "metadata": {},
   "source": [
    "# Connect to the Insomina\n",
    "Getting Started:\n",
    "ssh <UNI>@insomnia.rcs.columbia.edu\n",
    "Review the cluster documentation to familiarize yourself with available resources and best practices.\n",
    "Explore the available modules and software packages to support your research and computing needs.\n",
    "Check your quota usage regularly to ensure efficient utilization of resources.\n",
    "Research Computing hosts some video training sessions on both the command line and the HPC cluster (among other things) here."
   ]
  },
  {
   "cell_type": "code",
   "execution_count": 16,
   "metadata": {
    "id": "iLWs8J3esDGE"
   },
   "outputs": [],
   "source": [
    "### disables tokenizer thread parallelism,\n",
    "### telling Hugging Face to run tokenization single-threaded, avoiding the risk of threading issues across forked processes.\n",
    "import os\n",
    "os.environ[\"TOKENIZERS_PARALLELISM\"] = \"false\"\n",
    "from huggingface_hub import login\n",
    "login()"
   ]
  },
  {
   "cell_type": "code",
   "execution_count": 19,
   "metadata": {
    "id": "J5qZai4Yc4YP"
   },
   "outputs": [],
   "source": [
    "from datasets import Dataset\n",
    "\n",
    "### Make sure the columns are 'question' and 'answer'\n",
    "hf_dataset = Dataset.from_pandas(df)\n",
    "### Optional: Split into train/test sets\n",
    "dataset = hf_dataset.train_test_split(test_size=0.1)"
   ]
  },
  {
   "cell_type": "markdown",
   "metadata": {},
   "source": [
    "## Load LLaMA Model and Tokenizer"
   ]
  },
  {
   "cell_type": "code",
   "execution_count": 20,
   "metadata": {
    "colab": {
     "base_uri": "https://localhost:8080/"
    },
    "id": "F3kGMHRmsQFn",
    "outputId": "d3a45964-003a-4e81-fc72-d6b217a0bc1d"
   },
   "outputs": [
    {
     "data": {
      "application/vnd.jupyter.widget-view+json": {
       "model_id": "2e6281e95b0c48e4b13215212938f38a",
       "version_major": 2,
       "version_minor": 0
      },
      "text/plain": [
       "tokenizer_config.json:   0%|          | 0.00/50.5k [00:00<?, ?B/s]"
      ]
     },
     "metadata": {},
     "output_type": "display_data"
    },
    {
     "data": {
      "application/vnd.jupyter.widget-view+json": {
       "model_id": "ddbfc68b2a184ced9b8d8d3f69771819",
       "version_major": 2,
       "version_minor": 0
      },
      "text/plain": [
       "tokenizer.json:   0%|          | 0.00/9.09M [00:00<?, ?B/s]"
      ]
     },
     "metadata": {},
     "output_type": "display_data"
    },
    {
     "data": {
      "application/vnd.jupyter.widget-view+json": {
       "model_id": "a227ad907f8148dda04069149ddbbb21",
       "version_major": 2,
       "version_minor": 0
      },
      "text/plain": [
       "special_tokens_map.json:   0%|          | 0.00/301 [00:00<?, ?B/s]"
      ]
     },
     "metadata": {},
     "output_type": "display_data"
    },
    {
     "data": {
      "application/vnd.jupyter.widget-view+json": {
       "model_id": "7cf5c988674948a785fc4d8b178ee97b",
       "version_major": 2,
       "version_minor": 0
      },
      "text/plain": [
       "config.json:   0%|          | 0.00/843 [00:00<?, ?B/s]"
      ]
     },
     "metadata": {},
     "output_type": "display_data"
    },
    {
     "data": {
      "application/vnd.jupyter.widget-view+json": {
       "model_id": "44e1519aebdf4f16a44cc2064c05616c",
       "version_major": 2,
       "version_minor": 0
      },
      "text/plain": [
       "model.safetensors:   0%|          | 0.00/2.47G [00:00<?, ?B/s]"
      ]
     },
     "metadata": {},
     "output_type": "display_data"
    },
    {
     "data": {
      "application/vnd.jupyter.widget-view+json": {
       "model_id": "5d4308c5da904a849e8b939fa5d90baa",
       "version_major": 2,
       "version_minor": 0
      },
      "text/plain": [
       "generation_config.json:   0%|          | 0.00/185 [00:00<?, ?B/s]"
      ]
     },
     "metadata": {},
     "output_type": "display_data"
    }
   ],
   "source": [
    "\n",
    "from transformers import AutoModelForCausalLM, AutoTokenizer\n",
    "\n",
    "model_name = \"meta-llama/Llama-3.2-1B\"\n",
    "tokenizer = AutoTokenizer.from_pretrained(model_name)\n",
    "model = AutoModelForCausalLM.from_pretrained(model_name)\n",
    "\n",
    "# Add padding token if not defined\n",
    "if tokenizer.pad_token is None:\n",
    "    tokenizer.pad_token = tokenizer.eos_token\n"
   ]
  },
  {
   "cell_type": "markdown",
   "metadata": {},
   "source": [
    "# Readability refers to how easy a piece of text is to read and understand. In this analysis, we used the Flesch Reading Ease Score, a widely adopted readability metric, to evaluate the clarity of the generated answers.\n",
    "\n",
    "The Flesch Reading Ease Score ranges from 0 to 100:\n",
    "\n",
    "90–100: Very easy to read (e.g., for children)\n",
    "\n",
    "60–70: Fairly easy to read (e.g., for teenagers)\n",
    "\n",
    "30–50: Fairly difficult (e.g., for high school/college level)\n",
    "\n",
    "0–30: Very difficult (e.g., for experts or academic audiences)\n",
    "\n",
    "A higher score means the text is simpler and easier to read, while a lower score indicates greater complexity, longer sentences, and more challenging vocabulary."
   ]
  },
  {
   "cell_type": "code",
   "execution_count": 21,
   "metadata": {
    "colab": {
     "base_uri": "https://localhost:8080/"
    },
    "id": "JUjIzFYdstSq",
    "outputId": "79346e21-9b36-4e3a-faf1-aed7ce03714f"
   },
   "outputs": [
    {
     "name": "stdout",
     "output_type": "stream",
     "text": [
      "                AnswerID                                             Answer  \\\n",
      "0  ADAM_0002818_Sec1.txt  Question: What is (are) Noonan syndrome ?\\nURL...   \n",
      "1  ADAM_0002818_Sec2.txt  Question: What causes Noonan syndrome ?\\nURL: ...   \n",
      "2  GARD_0004450_Sec1.txt  Question: What is (are) Noonan syndrome ? (Als...   \n",
      "3  GARD_0004450_Sec2.txt  Question: What are the symptoms of Noonan synd...   \n",
      "4  GARD_0004450_Sec3.txt  Question: Is Noonan syndrome inherited ? (Also...   \n",
      "\n",
      "     Unnamed: 2              Unnamed: 3  \\\n",
      "0  3-Incomplete   ADAM_0002818_Sec1.txt   \n",
      "1  3-Incomplete   ADAM_0002818_Sec2.txt   \n",
      "2  3-Incomplete   GARD_0004450_Sec1.txt   \n",
      "3  3-Incomplete   GARD_0004450_Sec2.txt   \n",
      "4  3-Incomplete   GARD_0004450_Sec3.txt   \n",
      "\n",
      "                                            question  \\\n",
      "0                    What is (are) Noonan syndrome ?   \n",
      "1                      What causes Noonan syndrome ?   \n",
      "2  What is (are) Noonan syndrome ? (Also called: ...   \n",
      "3  What are the symptoms of Noonan syndrome ? (Al...   \n",
      "4  Is Noonan syndrome inherited ? (Also called: M...   \n",
      "\n",
      "                                              answer  q_len  a_len  \\\n",
      "0  Noonan syndrome is a disease that can be passe...     31    139   \n",
      "1  Noonan syndrome is linked to defects in severa...     29    355   \n",
      "2  Noonan syndrome is a genetic disorder that cau...    273    702   \n",
      "3  What are the signs and symptoms of Noonan synd...    284   3189   \n",
      "4  How is Noonan syndrome inherited? Noonan syndr...    272    655   \n",
      "\n",
      "   readability  \n",
      "0        51.34  \n",
      "1        59.70  \n",
      "2        32.02  \n",
      "3        24.78  \n",
      "4        46.67  \n"
     ]
    }
   ],
   "source": [
    "## Load the dataset again to make sure it can be shown\n",
    "print(df.head())"
   ]
  },
  {
   "cell_type": "markdown",
   "metadata": {},
   "source": [
    "## Tokenize dataset"
   ]
  },
  {
   "cell_type": "code",
   "execution_count": 23,
   "metadata": {
    "colab": {
     "base_uri": "https://localhost:8080/",
     "height": 49,
     "referenced_widgets": [
      "55bdbcfab33e483595d39b20f0e041d3",
      "18d6c24479e8460c8b0d0d2f2629ef9e",
      "6c7499f5d1fd40489f880a07029569d6",
      "2bc6afb340ba4c5bba554ed2e28f824a",
      "5f95f91d42a0487ca4344c46262a8e6e",
      "9d31218c097e4690b526853bdf24fae6",
      "f8212423986a4062914e6a406f773fb0",
      "301891fdb2ca4427bc0c998c80419a01",
      "1d7dcc6e1ef04daaaabbe0b7d0ae7ec3",
      "d8055ee65d5c46318835a3c2a12a7935",
      "4a71c57854ad43bd8112279c625570db"
     ]
    },
    "id": "t9T5yS52t32O",
    "outputId": "734d0349-30c2-4672-94b4-566adeea7b9e"
   },
   "outputs": [
    {
     "data": {
      "application/vnd.jupyter.widget-view+json": {
       "model_id": "f376d1e8aee64aefb718e939f3d4a750",
       "version_major": 2,
       "version_minor": 0
      },
      "text/plain": [
       "Map:   0%|          | 0/150 [00:00<?, ? examples/s]"
      ]
     },
     "metadata": {},
     "output_type": "display_data"
    }
   ],
   "source": [
    "#\n",
    "from datasets import Dataset\n",
    "\n",
    "# Assuming df is your 131-row DataFrame with 'question' and 'answer'\n",
    "dataset = Dataset.from_pandas(df)\n",
    "\n",
    "def preprocess(example):\n",
    "    return tokenizer(\n",
    "        example[\"question\"],\n",
    "        text_target=example[\"answer\"],\n",
    "        truncation=True,\n",
    "        padding=\"max_length\",\n",
    "        max_length=512\n",
    "    )\n",
    "\n",
    "tokenized_dataset = dataset.map(preprocess, batched=True)"
   ]
  },
  {
   "cell_type": "code",
   "execution_count": 24,
   "metadata": {
    "id": "wBxRIEyVt-GL"
   },
   "outputs": [],
   "source": [
    "# ----- Split into train/test dataset\n",
    "train_test = tokenized_dataset.train_test_split(test_size=0.1)\n",
    "train_dataset = train_test[\"train\"]\n",
    "eval_dataset = train_test[\"test\"]"
   ]
  },
  {
   "cell_type": "markdown",
   "metadata": {},
   "source": [
    "## Generate answers using Llama 3.2 "
   ]
  },
  {
   "cell_type": "code",
   "execution_count": 29,
   "metadata": {},
   "outputs": [],
   "source": [
    "## ========== Generate answers using Llama 3.2 ==========\n",
    "def generate_answer(question, tokenizer, model, max_new_tokens=128, device=\"cpu\"):\n",
    "    \"\"\"\n",
    "    Generate an answer using a LLaMA model and clean up the output.\n",
    "\n",
    "    Parameters:\n",
    "        question (str): The input question.\n",
    "        tokenizer: The tokenizer used for the LLaMA model.\n",
    "        model: The loaded LLaMA model.\n",
    "        max_new_tokens (int): The max tokens to generate.\n",
    "        device (str): Device to run the model on (\"cuda\" or \"cpu\").\n",
    "\n",
    "    Returns:\n",
    "        str: Cleaned answer.\n",
    "    \"\"\"\n",
    "    # Step 1: Tokenize\n",
    "    inputs = tokenizer(question, return_tensors=\"pt\").to(device)\n",
    "\n",
    "    # Step 2: Generate output\n",
    "    outputs = model.generate(\n",
    "        **inputs,\n",
    "        max_new_tokens=max_new_tokens,\n",
    "        do_sample=False,\n",
    "        temperature=0.7,\n",
    "        top_k=50,\n",
    "        top_p=0.95,\n",
    "        pad_token_id=tokenizer.eos_token_id  # avoid warning if no pad_token\n",
    "    )\n",
    "\n",
    "    # Step 3: Decode output\n",
    "    decoded = tokenizer.decode(outputs[0], skip_special_tokens=True)\n",
    "\n",
    "    # Step 4: Remove question prefix if present\n",
    "    if question in decoded:\n",
    "        cleaned = decoded.split(question, 1)[-1]\n",
    "    else:\n",
    "        cleaned = decoded\n",
    "\n",
    "    # Step 5: Final clean\n",
    "    cleaned = cleaned.strip().replace(\"\\n\", \" \").strip()\n",
    "\n",
    "    return cleaned\n",
    "\n"
   ]
  },
  {
   "cell_type": "code",
   "execution_count": 30,
   "metadata": {},
   "outputs": [
    {
     "name": "stdout",
     "output_type": "stream",
     "text": [
      "Q: What are the symptoms of diabetes?\n",
      "A: What are the symptoms of diabetes? Diabetes is a disease that affects the way the body uses sugar. It is a chronic condition that requires regular monitoring and treatment. The symptoms of diabetes can vary depending on the type of diabetes and the severity of the condition. In this article, we will discuss the symptoms of diabetes and how to identify them. The symptoms of diabetes can vary depending on the type of diabetes and the severity of the condition. In general, the symptoms of diabetes include: Increased thirst and urination Frequent urination, especially at night Increased hunger and weight loss Numbness or tingling in the hands and\n"
     ]
    }
   ],
   "source": [
    "question = \"What are the symptoms of diabetes?\"\n",
    "answer = generate_answer(question, tokenizer, model)\n",
    "print(\"Q:\", question)\n",
    "print(\"A:\", answer)"
   ]
  },
  {
   "cell_type": "markdown",
   "metadata": {},
   "source": [
    "## Compute BERTScore "
   ]
  },
  {
   "cell_type": "code",
   "execution_count": 33,
   "metadata": {},
   "outputs": [
    {
     "name": "stderr",
     "output_type": "stream",
     "text": [
      "100%|██████████| 150/150 [46:35<00:00, 18.64s/it]\n"
     ]
    }
   ],
   "source": [
    "# ----- Compute BERTScore\n",
    "# Generate predictions using the model\n",
    "from tqdm import tqdm\n",
    "# Store generated answers\n",
    "generated_answers = []\n",
    "# Generate one by one to avoid OOM errors\n",
    "for q in tqdm(df[\"question\"]):\n",
    "    inputs = tokenizer(q, return_tensors=\"pt\", truncation=True).to(model.device)\n",
    "    output = model.generate(\n",
    "    **inputs,\n",
    "    max_new_tokens=100,\n",
    "    pad_token_id=tokenizer.eos_token_id  # ✅ 解决 warning\n",
    ")\n",
    "    decoded = tokenizer.decode(output[0], skip_special_tokens=True)\n",
    "\n",
    "    # Optionally clean if model echoes question\n",
    "    if q.strip() in decoded:\n",
    "        decoded = decoded.replace(q.strip(), \"\").strip()\n",
    "\n",
    "    generated_answers.append(decoded)\n",
    "# Step 2: Add Generated Answers to DataFrame\n",
    "df[\"generated_answer\"] = generated_answers\n"
   ]
  },
  {
   "cell_type": "code",
   "execution_count": null,
   "metadata": {},
   "outputs": [],
   "source": [
    " # Set pad_token as eos_token globally\n",
    "tokenizer.pad_token = tokenizer.eos_token\n"
   ]
  },
  {
   "cell_type": "code",
   "execution_count": 34,
   "metadata": {},
   "outputs": [
    {
     "data": {
      "application/vnd.jupyter.widget-view+json": {
       "model_id": "3a6e9f12e4894b33bf7101022799ffc7",
       "version_major": 2,
       "version_minor": 0
      },
      "text/plain": [
       "tokenizer_config.json:   0%|          | 0.00/25.0 [00:00<?, ?B/s]"
      ]
     },
     "metadata": {},
     "output_type": "display_data"
    },
    {
     "data": {
      "application/vnd.jupyter.widget-view+json": {
       "model_id": "e071e4943bbf41b1bfc72bd83cbfe138",
       "version_major": 2,
       "version_minor": 0
      },
      "text/plain": [
       "config.json:   0%|          | 0.00/482 [00:00<?, ?B/s]"
      ]
     },
     "metadata": {},
     "output_type": "display_data"
    },
    {
     "data": {
      "application/vnd.jupyter.widget-view+json": {
       "model_id": "21bc07daed2f484b91627238d95b2a0f",
       "version_major": 2,
       "version_minor": 0
      },
      "text/plain": [
       "vocab.json:   0%|          | 0.00/899k [00:00<?, ?B/s]"
      ]
     },
     "metadata": {},
     "output_type": "display_data"
    },
    {
     "data": {
      "application/vnd.jupyter.widget-view+json": {
       "model_id": "30d3dbd38a7a46bfb6edb477712f7522",
       "version_major": 2,
       "version_minor": 0
      },
      "text/plain": [
       "merges.txt:   0%|          | 0.00/456k [00:00<?, ?B/s]"
      ]
     },
     "metadata": {},
     "output_type": "display_data"
    },
    {
     "data": {
      "application/vnd.jupyter.widget-view+json": {
       "model_id": "12a8121bac9e472e81abe58620b703d3",
       "version_major": 2,
       "version_minor": 0
      },
      "text/plain": [
       "tokenizer.json:   0%|          | 0.00/1.36M [00:00<?, ?B/s]"
      ]
     },
     "metadata": {},
     "output_type": "display_data"
    },
    {
     "data": {
      "application/vnd.jupyter.widget-view+json": {
       "model_id": "6d7550ce25314ed587d950fa0d6b99cc",
       "version_major": 2,
       "version_minor": 0
      },
      "text/plain": [
       "model.safetensors:   0%|          | 0.00/1.42G [00:00<?, ?B/s]"
      ]
     },
     "metadata": {},
     "output_type": "display_data"
    },
    {
     "name": "stderr",
     "output_type": "stream",
     "text": [
      "Some weights of RobertaModel were not initialized from the model checkpoint at roberta-large and are newly initialized: ['pooler.dense.bias', 'pooler.dense.weight']\n",
      "You should probably TRAIN this model on a down-stream task to be able to use it for predictions and inference.\n"
     ]
    },
    {
     "name": "stdout",
     "output_type": "stream",
     "text": [
      "calculating scores...\n",
      "computing bert embedding.\n"
     ]
    },
    {
     "data": {
      "application/vnd.jupyter.widget-view+json": {
       "model_id": "a448c198a9c34e6199ffa2fcd05ba357",
       "version_major": 2,
       "version_minor": 0
      },
      "text/plain": [
       "  0%|          | 0/5 [00:00<?, ?it/s]"
      ]
     },
     "metadata": {},
     "output_type": "display_data"
    },
    {
     "name": "stdout",
     "output_type": "stream",
     "text": [
      "computing greedy matching.\n"
     ]
    },
    {
     "data": {
      "application/vnd.jupyter.widget-view+json": {
       "model_id": "8759b91c85734d579f2a8646bd9f2250",
       "version_major": 2,
       "version_minor": 0
      },
      "text/plain": [
       "  0%|          | 0/3 [00:00<?, ?it/s]"
      ]
     },
     "metadata": {},
     "output_type": "display_data"
    },
    {
     "name": "stdout",
     "output_type": "stream",
     "text": [
      "done in 2.50 seconds, 59.99 sentences/sec\n",
      "Avg Precision: 0.8365\n",
      "Avg Recall:    0.8223\n",
      "Avg F1:        0.8289\n"
     ]
    }
   ],
   "source": [
    "from bert_score import score\n",
    "\n",
    "P, R, F1 = score(df[\"generated_answer\"].tolist(), df[\"answer\"].tolist(), lang=\"en\", verbose=True)\n",
    "\n",
    "df[\"BERTScore_Precision\"] = P\n",
    "df[\"BERTScore_Recall\"] = R\n",
    "df[\"BERTScore_F1\"] = F1\n",
    "\n",
    "print(f\"Avg Precision: {P.mean().item():.4f}\")\n",
    "print(f\"Avg Recall:    {R.mean().item():.4f}\")\n",
    "print(f\"Avg F1:        {F1.mean().item():.4f}\")\n"
   ]
  },
  {
   "cell_type": "markdown",
   "metadata": {},
   "source": [
    "## ROUGE (Recall-Oriented Understudy for Gisting Evaluation)\n",
    "Used to measure the n-gram overlap between generated text and reference answers, particularly suitable for summarization tasks."
   ]
  },
  {
   "cell_type": "code",
   "execution_count": 39,
   "metadata": {},
   "outputs": [
    {
     "name": "stdout",
     "output_type": "stream",
     "text": [
      "ROUGE-1: 0.22477536086338157\n",
      "ROUGE-2: 0.056799085778383704\n",
      "ROUGE-L: 0.13901762515593957\n"
     ]
    }
   ],
   "source": [
    "from evaluate import load\n",
    "\n",
    "rouge = load(\"rouge\")\n",
    "results = rouge.compute(predictions=df[\"generated_answer\"].tolist(), references=df[\"answer\"].tolist())\n",
    "\n",
    "print(\"ROUGE-1:\", results[\"rouge1\"])\n",
    "print(\"ROUGE-2:\", results[\"rouge2\"])\n",
    "print(\"ROUGE-L:\", results[\"rougeL\"])\n"
   ]
  },
  {
   "cell_type": "markdown",
   "metadata": {},
   "source": [
    "## BLEU (Bilingual Evaluation Understudy Score)\n",
    "Originally used for machine translation tasks. Calculates exact n-gram matches between predictions and reference answers."
   ]
  },
  {
   "cell_type": "code",
   "execution_count": 40,
   "metadata": {},
   "outputs": [
    {
     "name": "stdout",
     "output_type": "stream",
     "text": [
      "BLEU Score: 0.0125\n"
     ]
    }
   ],
   "source": [
    "from nltk.translate.bleu_score import corpus_bleu\n",
    "\n",
    "references = [[ref.split()] for ref in df[\"answer\"]]\n",
    "candidates = [gen.split() for gen in df[\"generated_answer\"]]\n",
    "\n",
    "bleu_score = corpus_bleu(references, candidates)\n",
    "print(\"BLEU Score:\", round(bleu_score, 4))\n"
   ]
  },
  {
   "cell_type": "markdown",
   "metadata": {},
   "source": [
    "## METEOR (Metric for Evaluation of Translation with Explicit ORdering)\n",
    "Considers morphological variations (stems/synonyms), making it more forgiving than BLEU"
   ]
  },
  {
   "cell_type": "code",
   "execution_count": 56,
   "metadata": {},
   "outputs": [
    {
     "name": "stderr",
     "output_type": "stream",
     "text": [
      "[nltk_data] Downloading package wordnet to /root/nltk_data...\n"
     ]
    },
    {
     "data": {
      "text/plain": [
       "True"
      ]
     },
     "execution_count": 56,
     "metadata": {},
     "output_type": "execute_result"
    }
   ],
   "source": [
    "import nltk\n",
    "nltk.download('wordnet')\n"
   ]
  },
  {
   "cell_type": "code",
   "execution_count": 57,
   "metadata": {},
   "outputs": [
    {
     "name": "stdout",
     "output_type": "stream",
     "text": [
      "✅ Avg METEOR: 0.1339\n"
     ]
    }
   ],
   "source": [
    "from nltk.translate.meteor_score import meteor_score\n",
    "\n",
    "# Use simple .split() to tokenize\n",
    "meteor_scores = [\n",
    "    meteor_score([ref.split()], pred.split())\n",
    "    for ref, pred in zip(df[\"answer\"], df[\"generated_answer\"])\n",
    "]\n",
    "\n",
    "df[\"METEOR\"] = meteor_scores\n",
    "print(\"✅ Avg METEOR:\", round(sum(meteor_scores) / len(meteor_scores), 4))\n"
   ]
  },
  {
   "cell_type": "markdown",
   "metadata": {},
   "source": [
    "## CHRF++ (Character n-gram F-score)\n",
    "Character-level precision/recall metric, suitable for low-resource languages or languages without clear word boundaries"
   ]
  },
  {
   "cell_type": "code",
   "execution_count": 61,
   "metadata": {},
   "outputs": [
    {
     "name": "stdout",
     "output_type": "stream",
     "text": [
      "CHRF++ Score: 18.9978\n"
     ]
    }
   ],
   "source": [
    "from evaluate import load\n",
    "\n",
    "chrf = load(\"chrf\")\n",
    "chrf_result = chrf.compute(\n",
    "    predictions=df[\"generated_answer\"].tolist(),\n",
    "    references=df[\"answer\"].tolist()\n",
    ")\n",
    "\n",
    "print(\"CHRF++ Score:\", round(chrf_result[\"score\"], 4))\n"
   ]
  },
  {
   "cell_type": "code",
   "execution_count": null,
   "metadata": {},
   "outputs": [],
   "source": []
  }
 ],
 "metadata": {
  "colab": {
   "provenance": []
  },
  "kernelspec": {
   "display_name": "Python3 (ipykernel)",
   "language": "python",
   "name": "python3"
  },
  "language_info": {
   "codemirror_mode": {
    "name": "ipython",
    "version": 3
   },
   "file_extension": ".py",
   "mimetype": "text/x-python",
   "name": "python",
   "nbconvert_exporter": "python",
   "pygments_lexer": "ipython3",
   "version": "3.10.12"
  },
  "widgets": {
   "application/vnd.jupyter.widget-state+json": {
    "18d6c24479e8460c8b0d0d2f2629ef9e": {
     "model_module": "@jupyter-widgets/controls",
     "model_module_version": "1.5.0",
     "model_name": "HTMLModel",
     "state": {
      "_dom_classes": [],
      "_model_module": "@jupyter-widgets/controls",
      "_model_module_version": "1.5.0",
      "_model_name": "HTMLModel",
      "_view_count": null,
      "_view_module": "@jupyter-widgets/controls",
      "_view_module_version": "1.5.0",
      "_view_name": "HTMLView",
      "description": "",
      "description_tooltip": null,
      "layout": "IPY_MODEL_9d31218c097e4690b526853bdf24fae6",
      "placeholder": "​",
      "style": "IPY_MODEL_f8212423986a4062914e6a406f773fb0",
      "value": "Map: 100%"
     }
    },
    "1d7dcc6e1ef04daaaabbe0b7d0ae7ec3": {
     "model_module": "@jupyter-widgets/controls",
     "model_module_version": "1.5.0",
     "model_name": "ProgressStyleModel",
     "state": {
      "_model_module": "@jupyter-widgets/controls",
      "_model_module_version": "1.5.0",
      "_model_name": "ProgressStyleModel",
      "_view_count": null,
      "_view_module": "@jupyter-widgets/base",
      "_view_module_version": "1.2.0",
      "_view_name": "StyleView",
      "bar_color": null,
      "description_width": ""
     }
    },
    "2bc6afb340ba4c5bba554ed2e28f824a": {
     "model_module": "@jupyter-widgets/controls",
     "model_module_version": "1.5.0",
     "model_name": "HTMLModel",
     "state": {
      "_dom_classes": [],
      "_model_module": "@jupyter-widgets/controls",
      "_model_module_version": "1.5.0",
      "_model_name": "HTMLModel",
      "_view_count": null,
      "_view_module": "@jupyter-widgets/controls",
      "_view_module_version": "1.5.0",
      "_view_name": "HTMLView",
      "description": "",
      "description_tooltip": null,
      "layout": "IPY_MODEL_d8055ee65d5c46318835a3c2a12a7935",
      "placeholder": "​",
      "style": "IPY_MODEL_4a71c57854ad43bd8112279c625570db",
      "value": " 130/130 [00:00&lt;00:00, 190.61 examples/s]"
     }
    },
    "301891fdb2ca4427bc0c998c80419a01": {
     "model_module": "@jupyter-widgets/base",
     "model_module_version": "1.2.0",
     "model_name": "LayoutModel",
     "state": {
      "_model_module": "@jupyter-widgets/base",
      "_model_module_version": "1.2.0",
      "_model_name": "LayoutModel",
      "_view_count": null,
      "_view_module": "@jupyter-widgets/base",
      "_view_module_version": "1.2.0",
      "_view_name": "LayoutView",
      "align_content": null,
      "align_items": null,
      "align_self": null,
      "border": null,
      "bottom": null,
      "display": null,
      "flex": null,
      "flex_flow": null,
      "grid_area": null,
      "grid_auto_columns": null,
      "grid_auto_flow": null,
      "grid_auto_rows": null,
      "grid_column": null,
      "grid_gap": null,
      "grid_row": null,
      "grid_template_areas": null,
      "grid_template_columns": null,
      "grid_template_rows": null,
      "height": null,
      "justify_content": null,
      "justify_items": null,
      "left": null,
      "margin": null,
      "max_height": null,
      "max_width": null,
      "min_height": null,
      "min_width": null,
      "object_fit": null,
      "object_position": null,
      "order": null,
      "overflow": null,
      "overflow_x": null,
      "overflow_y": null,
      "padding": null,
      "right": null,
      "top": null,
      "visibility": null,
      "width": null
     }
    },
    "4a71c57854ad43bd8112279c625570db": {
     "model_module": "@jupyter-widgets/controls",
     "model_module_version": "1.5.0",
     "model_name": "DescriptionStyleModel",
     "state": {
      "_model_module": "@jupyter-widgets/controls",
      "_model_module_version": "1.5.0",
      "_model_name": "DescriptionStyleModel",
      "_view_count": null,
      "_view_module": "@jupyter-widgets/base",
      "_view_module_version": "1.2.0",
      "_view_name": "StyleView",
      "description_width": ""
     }
    },
    "55bdbcfab33e483595d39b20f0e041d3": {
     "model_module": "@jupyter-widgets/controls",
     "model_module_version": "1.5.0",
     "model_name": "HBoxModel",
     "state": {
      "_dom_classes": [],
      "_model_module": "@jupyter-widgets/controls",
      "_model_module_version": "1.5.0",
      "_model_name": "HBoxModel",
      "_view_count": null,
      "_view_module": "@jupyter-widgets/controls",
      "_view_module_version": "1.5.0",
      "_view_name": "HBoxView",
      "box_style": "",
      "children": [
       "IPY_MODEL_18d6c24479e8460c8b0d0d2f2629ef9e",
       "IPY_MODEL_6c7499f5d1fd40489f880a07029569d6",
       "IPY_MODEL_2bc6afb340ba4c5bba554ed2e28f824a"
      ],
      "layout": "IPY_MODEL_5f95f91d42a0487ca4344c46262a8e6e"
     }
    },
    "5f95f91d42a0487ca4344c46262a8e6e": {
     "model_module": "@jupyter-widgets/base",
     "model_module_version": "1.2.0",
     "model_name": "LayoutModel",
     "state": {
      "_model_module": "@jupyter-widgets/base",
      "_model_module_version": "1.2.0",
      "_model_name": "LayoutModel",
      "_view_count": null,
      "_view_module": "@jupyter-widgets/base",
      "_view_module_version": "1.2.0",
      "_view_name": "LayoutView",
      "align_content": null,
      "align_items": null,
      "align_self": null,
      "border": null,
      "bottom": null,
      "display": null,
      "flex": null,
      "flex_flow": null,
      "grid_area": null,
      "grid_auto_columns": null,
      "grid_auto_flow": null,
      "grid_auto_rows": null,
      "grid_column": null,
      "grid_gap": null,
      "grid_row": null,
      "grid_template_areas": null,
      "grid_template_columns": null,
      "grid_template_rows": null,
      "height": null,
      "justify_content": null,
      "justify_items": null,
      "left": null,
      "margin": null,
      "max_height": null,
      "max_width": null,
      "min_height": null,
      "min_width": null,
      "object_fit": null,
      "object_position": null,
      "order": null,
      "overflow": null,
      "overflow_x": null,
      "overflow_y": null,
      "padding": null,
      "right": null,
      "top": null,
      "visibility": null,
      "width": null
     }
    },
    "6c7499f5d1fd40489f880a07029569d6": {
     "model_module": "@jupyter-widgets/controls",
     "model_module_version": "1.5.0",
     "model_name": "FloatProgressModel",
     "state": {
      "_dom_classes": [],
      "_model_module": "@jupyter-widgets/controls",
      "_model_module_version": "1.5.0",
      "_model_name": "FloatProgressModel",
      "_view_count": null,
      "_view_module": "@jupyter-widgets/controls",
      "_view_module_version": "1.5.0",
      "_view_name": "ProgressView",
      "bar_style": "success",
      "description": "",
      "description_tooltip": null,
      "layout": "IPY_MODEL_301891fdb2ca4427bc0c998c80419a01",
      "max": 130,
      "min": 0,
      "orientation": "horizontal",
      "style": "IPY_MODEL_1d7dcc6e1ef04daaaabbe0b7d0ae7ec3",
      "value": 130
     }
    },
    "9d31218c097e4690b526853bdf24fae6": {
     "model_module": "@jupyter-widgets/base",
     "model_module_version": "1.2.0",
     "model_name": "LayoutModel",
     "state": {
      "_model_module": "@jupyter-widgets/base",
      "_model_module_version": "1.2.0",
      "_model_name": "LayoutModel",
      "_view_count": null,
      "_view_module": "@jupyter-widgets/base",
      "_view_module_version": "1.2.0",
      "_view_name": "LayoutView",
      "align_content": null,
      "align_items": null,
      "align_self": null,
      "border": null,
      "bottom": null,
      "display": null,
      "flex": null,
      "flex_flow": null,
      "grid_area": null,
      "grid_auto_columns": null,
      "grid_auto_flow": null,
      "grid_auto_rows": null,
      "grid_column": null,
      "grid_gap": null,
      "grid_row": null,
      "grid_template_areas": null,
      "grid_template_columns": null,
      "grid_template_rows": null,
      "height": null,
      "justify_content": null,
      "justify_items": null,
      "left": null,
      "margin": null,
      "max_height": null,
      "max_width": null,
      "min_height": null,
      "min_width": null,
      "object_fit": null,
      "object_position": null,
      "order": null,
      "overflow": null,
      "overflow_x": null,
      "overflow_y": null,
      "padding": null,
      "right": null,
      "top": null,
      "visibility": null,
      "width": null
     }
    },
    "d8055ee65d5c46318835a3c2a12a7935": {
     "model_module": "@jupyter-widgets/base",
     "model_module_version": "1.2.0",
     "model_name": "LayoutModel",
     "state": {
      "_model_module": "@jupyter-widgets/base",
      "_model_module_version": "1.2.0",
      "_model_name": "LayoutModel",
      "_view_count": null,
      "_view_module": "@jupyter-widgets/base",
      "_view_module_version": "1.2.0",
      "_view_name": "LayoutView",
      "align_content": null,
      "align_items": null,
      "align_self": null,
      "border": null,
      "bottom": null,
      "display": null,
      "flex": null,
      "flex_flow": null,
      "grid_area": null,
      "grid_auto_columns": null,
      "grid_auto_flow": null,
      "grid_auto_rows": null,
      "grid_column": null,
      "grid_gap": null,
      "grid_row": null,
      "grid_template_areas": null,
      "grid_template_columns": null,
      "grid_template_rows": null,
      "height": null,
      "justify_content": null,
      "justify_items": null,
      "left": null,
      "margin": null,
      "max_height": null,
      "max_width": null,
      "min_height": null,
      "min_width": null,
      "object_fit": null,
      "object_position": null,
      "order": null,
      "overflow": null,
      "overflow_x": null,
      "overflow_y": null,
      "padding": null,
      "right": null,
      "top": null,
      "visibility": null,
      "width": null
     }
    },
    "f8212423986a4062914e6a406f773fb0": {
     "model_module": "@jupyter-widgets/controls",
     "model_module_version": "1.5.0",
     "model_name": "DescriptionStyleModel",
     "state": {
      "_model_module": "@jupyter-widgets/controls",
      "_model_module_version": "1.5.0",
      "_model_name": "DescriptionStyleModel",
      "_view_count": null,
      "_view_module": "@jupyter-widgets/base",
      "_view_module_version": "1.2.0",
      "_view_name": "StyleView",
      "description_width": ""
     }
    }
   }
  }
 },
 "nbformat": 4,
 "nbformat_minor": 4
}
